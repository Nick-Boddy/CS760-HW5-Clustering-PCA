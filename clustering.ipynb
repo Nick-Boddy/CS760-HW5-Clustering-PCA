{
 "cells": [
  {
   "cell_type": "code",
   "execution_count": 1,
   "metadata": {},
   "outputs": [],
   "source": [
    "import numpy as np\n",
    "import pandas as pd\n",
    "import math"
   ]
  },
  {
   "cell_type": "code",
   "execution_count": 33,
   "metadata": {},
   "outputs": [],
   "source": [
    "def generate_dataset(sigma: float):\n",
    "    samples1 = np.random.multivariate_normal(\\\n",
    "        np.array([-1, -1]), sigma * np.array([[2, 0.5], [0.5, 1]]), 100)\n",
    "    samples2 = np.random.multivariate_normal(\\\n",
    "        np.array([1, -1]), sigma * np.array([[1, -0.5], [-0.5, 2]]), 100)\n",
    "    samples3 = np.random.multivariate_normal(\\\n",
    "        np.array([0, 1]), sigma * np.array([[1, 0], [0, 2]]), 100)\n",
    "    dataset = np.concatenate((samples1, samples2, samples3))\n",
    "    labels = ['a'] * 100 + ['b'] * 100 + ['c'] * 100\n",
    "    return (dataset, labels)"
   ]
  },
  {
   "cell_type": "code",
   "execution_count": 63,
   "metadata": {},
   "outputs": [],
   "source": [
    "def km_clustering(X: np.array, K: int) -> (np.array, np.array):\n",
    "    # randomly select k centroids\n",
    "    dbounds = [(np.min(X[:, i]), np.max(X[:, i])) for i in range(X.shape[1])]\n",
    "    print('Bounds: ' + str(dbounds))\n",
    "    centers = np.array([[np.random.random_sample() * (dbounds[j][1] - dbounds[j][0]) + dbounds[j][0] \\\n",
    "                for j in range(len(dbounds))] for i in range(K)])\n",
    "    print('Centers: ' + str(centers))\n",
    "    converged = False\n",
    "    Y = np.zeros(X.shape[0])\n",
    "    while not converged:\n",
    "        change = False\n",
    "        # assign each x to a centroid\n",
    "        for i in range(len(X)):\n",
    "            prev_y = Y[i]\n",
    "            x = X[i]\n",
    "            distances = np.linalg.norm(centers - x, axis=1)\n",
    "            closest_center = np.argmin(distances)\n",
    "            Y[i] = closest_center\n",
    "            if Y[i] != prev_y:\n",
    "                change = True\n",
    "        # update each centroid\n",
    "        for k in range(len(centers)):\n",
    "            cluster_points = [X[j] for j in np.where(Y == k)[0]]\n",
    "            centers[k] = np.mean(cluster_points)\n",
    "        print('Centers: ' + str(centers))\n",
    "        # if no centroid assignment changed, we've converged\n",
    "        if not change:\n",
    "            converged = True\n",
    "            print('Converged')\n",
    "    return (centers, Y)"
   ]
  },
  {
   "cell_type": "code",
   "execution_count": 64,
   "metadata": {},
   "outputs": [
    {
     "name": "stdout",
     "output_type": "stream",
     "text": [
      "Bounds: [(-3.807723229680784, 2.347077117056819), (-3.3501783528858677, 3.620042721979201)]\n",
      "Centers: [[-3.36665674  1.95101026]\n",
      " [-1.530027   -0.89918082]\n",
      " [-2.54025088 -0.10031124]]\n",
      "Centers: [[ 0.84739587  0.84739587]\n",
      " [-0.23724215 -0.23724215]\n",
      " [-0.39647157 -0.39647157]]\n",
      "Centers: [[ 0.7558784   0.7558784 ]\n",
      " [-0.02096139 -0.02096139]\n",
      " [-0.96877614 -0.96877614]]\n",
      "Centers: [[ 0.78174741  0.78174741]\n",
      " [-0.09379344 -0.09379344]\n",
      " [-1.14854369 -1.14854369]]\n",
      "Centers: [[ 0.77166064  0.77166064]\n",
      " [-0.15430662 -0.15430662]\n",
      " [-1.27086695 -1.27086695]]\n",
      "Centers: [[ 0.7663419   0.7663419 ]\n",
      " [-0.18921669 -0.18921669]\n",
      " [-1.35058354 -1.35058354]]\n",
      "Centers: [[ 0.74568961  0.74568961]\n",
      " [-0.21428731 -0.21428731]\n",
      " [-1.37846645 -1.37846645]]\n",
      "Centers: [[ 0.74568961  0.74568961]\n",
      " [-0.21811489 -0.21811489]\n",
      " [-1.38792509 -1.38792509]]\n",
      "Centers: [[ 0.74568961  0.74568961]\n",
      " [-0.22207552 -0.22207552]\n",
      " [-1.39725203 -1.39725203]]\n",
      "Centers: [[ 0.74038361  0.74038361]\n",
      " [-0.22539688 -0.22539688]\n",
      " [-1.39725203 -1.39725203]]\n",
      "Centers: [[ 0.73514608  0.73514608]\n",
      " [-0.22873431 -0.22873431]\n",
      " [-1.39725203 -1.39725203]]\n",
      "Centers: [[ 0.72996913  0.72996913]\n",
      " [-0.23208448 -0.23208448]\n",
      " [-1.39725203 -1.39725203]]\n",
      "Centers: [[ 0.72996913  0.72996913]\n",
      " [-0.23208448 -0.23208448]\n",
      " [-1.39725203 -1.39725203]]\n",
      "Converged\n",
      "[[ 0.72996913  0.72996913]\n",
      " [-0.23208448 -0.23208448]\n",
      " [-1.39725203 -1.39725203]]\n"
     ]
    }
   ],
   "source": [
    "X, Y = generate_dataset(0.5)\n",
    "centroids, classes = km_clustering(X, 3)\n",
    "print(centroids)"
   ]
  },
  {
   "cell_type": "code",
   "execution_count": null,
   "metadata": {},
   "outputs": [],
   "source": []
  }
 ],
 "metadata": {
  "kernelspec": {
   "display_name": "Python 3",
   "language": "python",
   "name": "python3"
  },
  "language_info": {
   "codemirror_mode": {
    "name": "ipython",
    "version": 3
   },
   "file_extension": ".py",
   "mimetype": "text/x-python",
   "name": "python",
   "nbconvert_exporter": "python",
   "pygments_lexer": "ipython3",
   "version": "3.8.8"
  }
 },
 "nbformat": 4,
 "nbformat_minor": 2
}
