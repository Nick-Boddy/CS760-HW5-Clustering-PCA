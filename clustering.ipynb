{
 "cells": [
  {
   "cell_type": "code",
   "execution_count": 1,
   "metadata": {},
   "outputs": [],
   "source": [
    "import numpy as np\n",
    "import pandas as pd\n",
    "import math"
   ]
  },
  {
   "cell_type": "code",
   "execution_count": 12,
   "metadata": {},
   "outputs": [],
   "source": [
    "def generate_dataset(sigma: float):\n",
    "    samples1 = np.random.multivariate_normal(\\\n",
    "        np.array([-1, -1]), sigma * np.array([[2, 0.5], [0.5, 1]]), 100)\n",
    "    samples1 = np.column_stack((samples1, np.full(samples1.shape[0], 'a')))\n",
    "    samples2 = np.random.multivariate_normal(\\\n",
    "        np.array([1, -1]), sigma * np.array([[1, -0.5], [-0.5, 2]]), 100)\n",
    "    samples2 = np.column_stack((samples2, np.full(samples2.shape[0], 'b')))\n",
    "    samples3 = np.random.multivariate_normal(\\\n",
    "        np.array([0, 1]), sigma * np.array([[1, 0], [0, 2]]), 100)\n",
    "    samples3 = np.column_stack((samples3, np.full(samples3.shape[0], 'c')))\n",
    "    dataset = np.concatenate((samples1, samples2, samples3))\n",
    "    return dataset"
   ]
  },
  {
   "cell_type": "code",
   "execution_count": null,
   "metadata": {},
   "outputs": [],
   "source": [
    "dset1 = generate_dataset(1)\n",
    "print(dset1)"
   ]
  },
  {
   "cell_type": "code",
   "execution_count": null,
   "metadata": {},
   "outputs": [],
   "source": [
    "def km_clustering(X: np.array, K: int):\n",
    "    # randomly select k centroids\n",
    "    #dmin = np.zeros(X.shape[1])\n",
    "    dbounds = [(np.min(X[:, i]), np.max(X[:, i])) for i in range(X.shape[1])]\n",
    "    centers = np.array([[np.random.random_sample() * (dbounds[j][1] - dbounds[j][0]) + dbounds[j][0] \\\n",
    "                for j in range(len(dbounds))] for i in range(K)])\n",
    "    # assign each x to a centroid\n",
    "    converged = False\n",
    "    while not converged:\n",
    "        for i in range(len(X)):\n",
    "            x = X[i]\n",
    "            distances = np.linalg.norm(centers - x)\n",
    "    # update each centroid\n",
    "\n",
    "    # repeat until no changes\n",
    "    return"
   ]
  }
 ],
 "metadata": {
  "kernelspec": {
   "display_name": "Python 3",
   "language": "python",
   "name": "python3"
  },
  "language_info": {
   "codemirror_mode": {
    "name": "ipython",
    "version": 3
   },
   "file_extension": ".py",
   "mimetype": "text/x-python",
   "name": "python",
   "nbconvert_exporter": "python",
   "pygments_lexer": "ipython3",
   "version": "3.8.8"
  }
 },
 "nbformat": 4,
 "nbformat_minor": 2
}
