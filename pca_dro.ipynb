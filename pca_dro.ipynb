{
 "cells": [
  {
   "cell_type": "code",
   "execution_count": 1,
   "metadata": {},
   "outputs": [],
   "source": [
    "import numpy as np\n",
    "import matplotlib.pyplot as plt\n",
    "%matplotlib inline"
   ]
  },
  {
   "cell_type": "code",
   "execution_count": 2,
   "metadata": {},
   "outputs": [],
   "source": [
    "def buggy_pca(X: np.array, d: int):\n",
    "    # X: n x D\n",
    "    # A: D x d\n",
    "    # Xd: n x D\n",
    "    A = np.zeros((X.shape[1], d))\n",
    "    U, S, Vh = np.linalg.svd(X)\n",
    "    A = np.array(Vh[:d]).T\n",
    "    Xt = X @ A\n",
    "    # reconstruct\n",
    "    Xr = Xt @ A.T\n",
    "    return Xt, (U, S, Vh, A), Xr"
   ]
  },
  {
   "cell_type": "code",
   "execution_count": 3,
   "metadata": {},
   "outputs": [],
   "source": [
    "def demeaned_pca(X: np.array, d: int):\n",
    "    # X: n x D\n",
    "    # A: D x d\n",
    "    # Xd: n x D\n",
    "    mean = np.mean(X, axis=0)\n",
    "    Xm = X - mean\n",
    "    A = np.zeros((X.shape[1], d))\n",
    "    U, S, Vh = np.linalg.svd(Xm)\n",
    "    A = np.array(Vh[:d]).T\n",
    "    Xt = Xm @ A\n",
    "    # reconstruct\n",
    "    Xr = (Xt @ A.T) + mean\n",
    "    return Xt, (U, S, Vh, A), Xr"
   ]
  },
  {
   "cell_type": "code",
   "execution_count": 4,
   "metadata": {},
   "outputs": [],
   "source": [
    "def normalized_pca(X: np.array, d: int):\n",
    "    # X: n x D\n",
    "    # A: D x d\n",
    "    # Xd: n x D\n",
    "    mean = np.mean(X, axis=0)\n",
    "    std = np.std(X, axis=0)\n",
    "    Xn = (X - mean) / std\n",
    "    A = np.zeros((X.shape[1], d))\n",
    "    U, S, Vh = np.linalg.svd(Xn)\n",
    "    A = np.array(Vh[:d]).T\n",
    "    Xt = Xn @ A\n",
    "    # reconstruct\n",
    "    Xr = (Xt @ A.T) * std + mean\n",
    "    return Xt, (U, S, Vh, A), Xr"
   ]
  },
  {
   "cell_type": "code",
   "execution_count": 5,
   "metadata": {},
   "outputs": [],
   "source": [
    "def dro(X: np.array, d: int):\n",
    "    b = np.mean(X, axis=0)\n",
    "    Xm = X - b\n",
    "    U, S, Vh = np.linalg.svd(Xm)\n",
    "    Ud = U[:,:d] # n x d\n",
    "    Sd = np.zeros((d, d)) # d x d\n",
    "    for i in range(d):\n",
    "        Sd[i, i] = S[i]\n",
    "    Z = Ud @ Sd  # n x d\n",
    "    A = Vh[:d].T # D x d\n",
    "    # scale Z to have 0 mean and identity covariance\n",
    "    mean = np.mean(Z, axis=0)\n",
    "    Zm = Z - mean\n",
    "    Zcov = np.cov(Zm, rowvar=False)\n",
    "    inv_sqrt_cov = None\n",
    "    if d > 1:\n",
    "        evals, evecs = np.linalg.eigh(Zcov)\n",
    "        Zdiag = np.diag(1.0 / np.sqrt(evals))\n",
    "        inv_sqrt_cov = (evecs @ Zdiag) @ evecs.T\n",
    "        Zs = Zm @ inv_sqrt_cov\n",
    "        # reconstruct\n",
    "        Xr = (Zs @ np.linalg.inv(inv_sqrt_cov) + mean) @ A.T + b\n",
    "    else:\n",
    "        inv_sqrt_cov = 1 / np.sqrt(Zcov)\n",
    "        Zs = Zm * inv_sqrt_cov\n",
    "        # reconstruct\n",
    "        Xr = (Zs / inv_sqrt_cov + mean) @ A.T + b\n",
    "    return Zs, (U, S, Vh, A, Z, b), Xr"
   ]
  },
  {
   "cell_type": "code",
   "execution_count": 6,
   "metadata": {},
   "outputs": [],
   "source": [
    "def calc_err(X: np.array, R: np.array) -> float:\n",
    "    error = np.sum((X - R)**2)\n",
    "    return error"
   ]
  },
  {
   "cell_type": "markdown",
   "metadata": {},
   "source": [
    "### 2 Dimensions"
   ]
  },
  {
   "cell_type": "code",
   "execution_count": 7,
   "metadata": {},
   "outputs": [],
   "source": [
    "data2d = np.loadtxt('./data/data2D.csv', delimiter=',', dtype=float)"
   ]
  },
  {
   "cell_type": "code",
   "execution_count": 8,
   "metadata": {},
   "outputs": [
    {
     "data": {
      "image/png": "[encoded data removed]",
      "text/plain": [
       "<Figure size 432x288 with 1 Axes>"
      ]
     },
     "metadata": {
      "needs_background": "light"
     },
     "output_type": "display_data"
    }
   ],
   "source": [
    "buggy_d, _, buggy_r = buggy_pca(data2d, 1)\n",
    "plt.scatter(data2d[:,0], data2d[:,1], c='b', marker='o', alpha=.7, label='initial')\n",
    "plt.scatter(buggy_r[:,0], buggy_r[:,1], c='r', marker='x', alpha=.7, label='reconstructed')\n",
    "plt.title('Buggy PCA')\n",
    "plt.xlim(3, 10)\n",
    "plt.ylim(4, 7)\n",
    "plt.legend()\n",
    "plt.show()"
   ]
  },
  {
   "cell_type": "code",
   "execution_count": 9,
   "metadata": {},
   "outputs": [
    {
     "data": {
      "image/png": "[encoded data removed]",
      "text/plain": [
       "<Figure size 432x288 with 1 Axes>"
      ]
     },
     "metadata": {
      "needs_background": "light"
     },
     "output_type": "display_data"
    }
   ],
   "source": [
    "demean_d, _, demean_r = demeaned_pca(data2d, 1)\n",
    "plt.scatter(data2d[:,0], data2d[:,1], c='b', marker='o', alpha=.7, label='initial')\n",
    "plt.scatter(demean_r[:,0], demean_r[:,1], c='r', marker='x', alpha=.7, label='reconstructed')\n",
    "plt.title('Demeaned PCA')\n",
    "plt.xlim(3, 10)\n",
    "plt.ylim(4, 7)\n",
    "plt.legend()\n",
    "plt.show()"
   ]
  },
  {
   "cell_type": "code",
   "execution_count": 10,
   "metadata": {},
   "outputs": [
    {
     "data": {
      "image/png": "[encoded data removed]",
      "text/plain": [
       "<Figure size 432x288 with 1 Axes>"
      ]
     },
     "metadata": {
      "needs_background": "light"
     },
     "output_type": "display_data"
    }
   ],
   "source": [
    "norm_d, _, norm_r = normalized_pca(data2d, 1)\n",
    "plt.scatter(data2d[:,0], data2d[:,1], c='b', marker='o', alpha=.7, label='initial')\n",
    "plt.scatter(norm_r[:,0], norm_r[:,1], c='r', marker='x', alpha=.7, label='reconstructed')\n",
    "plt.title('Normalized PCA')\n",
    "plt.xlim(3, 10)\n",
    "plt.ylim(4, 7)\n",
    "plt.legend()\n",
    "plt.show()"
   ]
  },
  {
   "cell_type": "code",
   "execution_count": 11,
   "metadata": {},
   "outputs": [
    {
     "data": {
      "image/png": "[encoded data removed]",
      "text/plain": [
       "<Figure size 432x288 with 1 Axes>"
      ]
     },
     "metadata": {
      "needs_background": "light"
     },
     "output_type": "display_data"
    }
   ],
   "source": [
    "dro_d, _, dro_r = dro(data2d, 1)\n",
    "plt.scatter(data2d[:,0], data2d[:,1], c='b', marker='o', alpha=.7, label='initial')\n",
    "plt.scatter(dro_r[:,0], dro_r[:,1], c='r', marker='x', alpha=.7, label='reconstructed')\n",
    "plt.title('DRO')\n",
    "plt.xlim(3, 10)\n",
    "plt.ylim(4, 7)\n",
    "plt.legend()\n",
    "plt.show()"
   ]
  },
  {
   "cell_type": "code",
   "execution_count": 12,
   "metadata": {},
   "outputs": [
    {
     "name": "stdout",
     "output_type": "stream",
     "text": [
      "Reconstruction Errors: \n",
      "Buggy PCA: 44.34515418673971\n",
      "Demeaned PCA: 0.500304281425646\n",
      "Normalized PCA: 2.473604172738534\n",
      "DRO: 0.500304281425646\n"
     ]
    }
   ],
   "source": [
    "print('Reconstruction Errors: ')\n",
    "print('Buggy PCA: ' + str(calc_err(data2d, buggy_r)))\n",
    "print('Demeaned PCA: ' + str(calc_err(data2d, demean_r)))\n",
    "print('Normalized PCA: ' + str(calc_err(data2d, norm_r)))\n",
    "print('DRO: ' + str(calc_err(data2d, dro_r)))"
   ]
  },
  {
   "cell_type": "markdown",
   "metadata": {},
   "source": [
    "### 1000 Dimensions"
   ]
  },
  {
   "cell_type": "code",
   "execution_count": 13,
   "metadata": {},
   "outputs": [
    {
     "data": {
      "text/plain": [
       "(500, 1000)"
      ]
     },
     "execution_count": 13,
     "metadata": {},
     "output_type": "execute_result"
    }
   ],
   "source": [
    "data = np.loadtxt('./data/data1000D.csv', delimiter=',', dtype=float)\n",
    "data.shape"
   ]
  },
  {
   "cell_type": "code",
   "execution_count": 14,
   "metadata": {},
   "outputs": [
    {
     "data": {
      "image/png": "[encoded data removed]",
      "text/plain": [
       "<Figure size 432x288 with 1 Axes>"
      ]
     },
     "metadata": {
      "needs_background": "light"
     },
     "output_type": "display_data"
    }
   ],
   "source": [
    "mean = np.mean(data, axis=0)\n",
    "Xm = data - mean\n",
    "U, S, Vh = np.linalg.svd(Xm)\n",
    "plt.bar(range(len(S)), S)\n",
    "plt.show()"
   ]
  },
  {
   "cell_type": "markdown",
   "metadata": {},
   "source": [
    "We can see a \"knee point\". Let's look at a subset:"
   ]
  },
  {
   "cell_type": "code",
   "execution_count": 15,
   "metadata": {},
   "outputs": [
    {
     "data": {
      "image/png": "[encoded data removed]",
      "text/plain": [
       "<Figure size 432x288 with 1 Axes>"
      ]
     },
     "metadata": {
      "needs_background": "light"
     },
     "output_type": "display_data"
    }
   ],
   "source": [
    "plt.bar(range(50), S[:50])\n",
    "plt.show()"
   ]
  },
  {
   "cell_type": "code",
   "execution_count": 16,
   "metadata": {},
   "outputs": [
    {
     "name": "stdout",
     "output_type": "stream",
     "text": [
      "541.1008412778775\n",
      "514.786013128445\n",
      "28.72590083294839\n"
     ]
    }
   ],
   "source": [
    "print(S[28])\n",
    "print(S[29])\n",
    "print(S[30])"
   ]
  },
  {
   "cell_type": "markdown",
   "metadata": {},
   "source": [
    "It looks like the first 30 singular values are the most significant values, and everything after has a significant dropoff. So we'll choose d = 30."
   ]
  },
  {
   "cell_type": "code",
   "execution_count": 17,
   "metadata": {},
   "outputs": [
    {
     "name": "stdout",
     "output_type": "stream",
     "text": [
      "Reconstruction Errors: \n",
      "Buggy PCA: 401365.6993101792\n",
      "Demeaned PCA: 136522.9794893014\n",
      "Normalized PCA: 136814.2904988116\n",
      "DRO: 136522.9794893014\n"
     ]
    }
   ],
   "source": [
    "buggy_d, buggy_p, buggy_r = buggy_pca(data, 30)\n",
    "demean_d, demean_p, demean_r = demeaned_pca(data, 30)\n",
    "norm_d, norm_p, norm_r = normalized_pca(data, 30)\n",
    "dro_d, dro_p, dro_r = dro(data, 30)\n",
    "print('Reconstruction Errors: ')\n",
    "print('Buggy PCA: ' + str(calc_err(data, buggy_r)))\n",
    "print('Demeaned PCA: ' + str(calc_err(data, demean_r)))\n",
    "print('Normalized PCA: ' + str(calc_err(data, norm_r)))\n",
    "print('DRO: ' + str(calc_err(data, dro_r)))"
   ]
  }
 ],
 "metadata": {
  "kernelspec": {
   "display_name": "base",
   "language": "python",
   "name": "python3"
  },
  "language_info": {
   "codemirror_mode": {
    "name": "ipython",
    "version": 3
   },
   "file_extension": ".py",
   "mimetype": "text/x-python",
   "name": "python",
   "nbconvert_exporter": "python",
   "pygments_lexer": "ipython3",
   "version": "3.8.8"
  }
 },
 "nbformat": 4,
 "nbformat_minor": 2
}
